{
 "cells": [
  {
   "cell_type": "code",
   "execution_count": 1,
   "id": "1991bc42-88ec-4545-b854-abd9c1c7e94e",
   "metadata": {},
   "outputs": [
    {
     "name": "stdout",
     "output_type": "stream",
     "text": [
      "📈 Total flats: 10\n",
      "💰 Rent per day: £40.00\n",
      "🗓️ Days available: 3650\n",
      "Occupancy: 92.0% → 97.0%\n",
      "Revenue: £134,320 → £141,620\n",
      "Gain from improvement: £7,300\n"
     ]
    }
   ],
   "source": [
    "# 🏗️ Occupancy Simulation Setup\n",
    "\n",
    "import pandas as pd\n",
    "import matplotlib.pyplot as plt\n",
    "import seaborn as sns\n",
    "\n",
    "# Optional for interactivity (install via requirements.txt)\n",
    "# from ipywidgets import interact, FloatSlider, IntSlider\n",
    "\n",
    "# ------------------------------------------------------------------------------\n",
    "# 📊 Core simulation constants\n",
    "# ------------------------------------------------------------------------------\n",
    "\n",
    "# Number of flats under management\n",
    "N_FLATS = 10\n",
    "\n",
    "# Rental assumptions\n",
    "RENT_PER_MONTH = 1200       # £ per month per flat\n",
    "RENT_PER_DAY = RENT_PER_MONTH / 30.0\n",
    "\n",
    "# Time horizon\n",
    "DAYS_IN_YEAR = 365\n",
    "\n",
    "# Current average occupancy (percentage of days each flat is rented)\n",
    "BASE_OCCUPANCY_RATE = 0.92  # 92%\n",
    "\n",
    "# Target improvement you want to test\n",
    "IMPROVED_OCCUPANCY_RATE = 0.97  # 97%\n",
    "\n",
    "# ------------------------------------------------------------------------------\n",
    "# ⚙️ Derived metrics\n",
    "# ------------------------------------------------------------------------------\n",
    "\n",
    "total_days_available = N_FLATS * DAYS_IN_YEAR\n",
    "days_occupied_base = total_days_available * BASE_OCCUPANCY_RATE\n",
    "days_occupied_improved = total_days_available * IMPROVED_OCCUPANCY_RATE\n",
    "\n",
    "revenue_base = days_occupied_base * RENT_PER_DAY\n",
    "revenue_improved = days_occupied_improved * RENT_PER_DAY\n",
    "\n",
    "gain = revenue_improved - revenue_base\n",
    "\n",
    "print(f\"📈 Total flats: {N_FLATS}\")\n",
    "print(f\"💰 Rent per day: £{RENT_PER_DAY:.2f}\")\n",
    "print(f\"🗓️ Days available: {total_days_available}\")\n",
    "print(f\"Occupancy: {BASE_OCCUPANCY_RATE*100:.1f}% → {IMPROVED_OCCUPANCY_RATE*100:.1f}%\")\n",
    "print(f\"Revenue: £{revenue_base:,.0f} → £{revenue_improved:,.0f}\")\n",
    "print(f\"Gain from improvement: £{gain:,.0f}\")"
   ]
  },
  {
   "cell_type": "code",
   "execution_count": 1,
   "id": "9e86dcfc-47d6-4f23-8bf2-a92f398b4be8",
   "metadata": {},
   "outputs": [
    {
     "name": "stdout",
     "output_type": "stream",
     "text": [
      "📈 Total flats: 10\n",
      "💰 Rent per day: £40.00\n",
      "🗓️ Days available: 3650\n",
      "Occupancy: 92.0% → 97.0%\n",
      "Revenue: £134,320 → £141,620\n",
      "Gain from improvement: £7,300\n"
     ]
    }
   ],
   "source": [
    "# 🏗️ Occupancy Simulation Setup\n",
    "\n",
    "import pandas as pd\n",
    "import matplotlib.pyplot as plt\n",
    "import seaborn as sns\n",
    "\n",
    "# Optional for interactivity (install via requirements.txt)\n",
    "# from ipywidgets import interact, FloatSlider, IntSlider\n",
    "\n",
    "# ------------------------------------------------------------------------------\n",
    "# 📊 Core simulation constants\n",
    "# ------------------------------------------------------------------------------\n",
    "\n",
    "# Number of flats under management\n",
    "N_FLATS = 10\n",
    "\n",
    "# Rental assumptions\n",
    "RENT_PER_MONTH = 1200       # £ per month per flat\n",
    "RENT_PER_DAY = RENT_PER_MONTH / 30.0\n",
    "\n",
    "# Time horizon\n",
    "DAYS_IN_YEAR = 365\n",
    "\n",
    "# Current average occupancy (percentage of days each flat is rented)\n",
    "BASE_OCCUPANCY_RATE = 0.92  # 92%\n",
    "\n",
    "# Target improvement you want to test\n",
    "IMPROVED_OCCUPANCY_RATE = 0.97  # 97%\n",
    "\n",
    "# ------------------------------------------------------------------------------\n",
    "# ⚙️ Derived metrics\n",
    "# ------------------------------------------------------------------------------\n",
    "\n",
    "total_days_available = N_FLATS * DAYS_IN_YEAR\n",
    "days_occupied_base = total_days_available * BASE_OCCUPANCY_RATE\n",
    "days_occupied_improved = total_days_available * IMPROVED_OCCUPANCY_RATE\n",
    "\n",
    "revenue_base = days_occupied_base * RENT_PER_DAY\n",
    "revenue_improved = days_occupied_improved * RENT_PER_DAY\n",
    "\n",
    "gain = revenue_improved - revenue_base\n",
    "\n",
    "print(f\"📈 Total flats: {N_FLATS}\")\n",
    "print(f\"💰 Rent per day: £{RENT_PER_DAY:.2f}\")\n",
    "print(f\"🗓️ Days available: {total_days_available}\")\n",
    "print(f\"Occupancy: {BASE_OCCUPANCY_RATE*100:.1f}% → {IMPROVED_OCCUPANCY_RATE*100:.1f}%\")\n",
    "print(f\"Revenue: £{revenue_base:,.0f} → £{revenue_improved:,.0f}\")\n",
    "print(f\"Gain from improvement: £{gain:,.0f}\")"
   ]
  },
  {
   "cell_type": "code",
   "execution_count": null,
   "id": "dc113596-8d39-444d-bdce-5558e71c8c2c",
   "metadata": {},
   "outputs": [],
   "source": []
  }
 ],
 "metadata": {
  "kernelspec": {
   "display_name": "Python 3 (ipykernel)",
   "language": "python",
   "name": "python3"
  },
  "language_info": {
   "codemirror_mode": {
    "name": "ipython",
    "version": 3
   },
   "file_extension": ".py",
   "mimetype": "text/x-python",
   "name": "python",
   "nbconvert_exporter": "python",
   "pygments_lexer": "ipython3",
   "version": "3.11.14"
  }
 },
 "nbformat": 4,
 "nbformat_minor": 5
}
